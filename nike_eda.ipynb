{
 "cells": [
  {
   "cell_type": "markdown",
   "id": "e59eea9a",
   "metadata": {},
   "source": [
    "## Imports"
   ]
  },
  {
   "cell_type": "code",
   "execution_count": 1,
   "id": "4ca5982d",
   "metadata": {},
   "outputs": [],
   "source": [
    "import itertools\n",
    "import math\n",
    "from collections import Counter\n",
    "\n",
    "import numpy as np\n",
    "import pandas as pd\n",
    "import seaborn as sns\n",
    "import matplotlib.pyplot as plt\n",
    "\n",
    "from sklearn.linear_model import LinearRegression\n",
    "from sklearn.neighbors import KNeighborsRegressor\n",
    "from sklearn.decomposition import PCA\n",
    "from sklearn.impute import SimpleImputer, KNNImputer\n",
    "from sklearn.model_selection import train_test_split\n",
    "from sklearn.metrics import mean_squared_error, r2_score\n",
    "from sklearn.preprocessing import PolynomialFeatures\n",
    "from sklearn.preprocessing import StandardScaler\n",
    "from prettytable import PrettyTable\n",
    "from sklearn.compose import ColumnTransformer\n",
    "from sklearn.model_selection import cross_validate\n",
    "from sklearn.linear_model import LogisticRegression\n",
    "from sklearn.linear_model import LogisticRegressionCV\n",
    "from sklearn.naive_bayes import GaussianNB, MultinomialNB\n",
    "\n",
    "from sklearn.metrics import accuracy_score\n",
    "from sklearn.metrics import roc_curve\n",
    "from sklearn.metrics import roc_auc_score"
   ]
  },
  {
   "cell_type": "markdown",
   "id": "197b9041",
   "metadata": {},
   "source": [
    "## Initial Observations"
   ]
  },
  {
   "cell_type": "code",
   "execution_count": 2,
   "id": "2f714046",
   "metadata": {},
   "outputs": [
    {
     "name": "stdout",
     "output_type": "stream",
     "text": [
      "Basic information about our Nike.com dataset:\n",
      "\n",
      "<class 'pandas.core.frame.DataFrame'>\n",
      "RangeIndex: 1368 entries, 0 to 1367\n",
      "Data columns (total 12 columns):\n",
      " #   Column         Non-Null Count  Dtype  \n",
      "---  ------         --------------  -----  \n",
      " 0   Unnamed: 0     1368 non-null   int64  \n",
      " 1   label          409 non-null    object \n",
      " 2   title          1368 non-null   object \n",
      " 3   subtitle       1367 non-null   object \n",
      " 4   num_colors     1368 non-null   object \n",
      " 5   price          1366 non-null   object \n",
      " 6   reduced_price  579 non-null    object \n",
      " 7   url            1368 non-null   object \n",
      " 8   description    1340 non-null   object \n",
      " 9   colors         840 non-null    object \n",
      " 10  n_reviews      1271 non-null   float64\n",
      " 11  avg_stars      1271 non-null   float64\n",
      "dtypes: float64(2), int64(1), object(9)\n",
      "memory usage: 128.4+ KB\n",
      "None\n",
      "\n",
      "\n",
      "A little more summary info about our data (there\n",
      "are only a few columns in our data, making this\n",
      "easy to inspect):\n",
      "\n",
      "         Unnamed: 0    n_reviews    avg_stars\n",
      "count  1368.000000  1271.000000  1271.000000\n",
      "mean    683.500000    73.042486     3.432966\n",
      "std     395.051895   279.601964     2.029485\n",
      "min       0.000000     0.000000     0.000000\n",
      "25%     341.750000     1.000000     1.000000\n",
      "50%     683.500000     7.000000     4.600000\n",
      "75%    1025.250000    46.000000     4.800000\n",
      "max    1367.000000  4811.000000     5.000000\n",
      "\n",
      "\n",
      "And, the first few rows of our data:\n"
     ]
    },
    {
     "data": {
      "text/html": [
       "<div>\n",
       "<style scoped>\n",
       "    .dataframe tbody tr th:only-of-type {\n",
       "        vertical-align: middle;\n",
       "    }\n",
       "\n",
       "    .dataframe tbody tr th {\n",
       "        vertical-align: top;\n",
       "    }\n",
       "\n",
       "    .dataframe thead th {\n",
       "        text-align: right;\n",
       "    }\n",
       "</style>\n",
       "<table border=\"1\" class=\"dataframe\">\n",
       "  <thead>\n",
       "    <tr style=\"text-align: right;\">\n",
       "      <th></th>\n",
       "      <th>Unnamed: 0</th>\n",
       "      <th>label</th>\n",
       "      <th>title</th>\n",
       "      <th>subtitle</th>\n",
       "      <th>num_colors</th>\n",
       "      <th>price</th>\n",
       "      <th>reduced_price</th>\n",
       "      <th>url</th>\n",
       "      <th>description</th>\n",
       "      <th>colors</th>\n",
       "      <th>n_reviews</th>\n",
       "      <th>avg_stars</th>\n",
       "    </tr>\n",
       "  </thead>\n",
       "  <tbody>\n",
       "    <tr>\n",
       "      <th>0</th>\n",
       "      <td>0</td>\n",
       "      <td>Best Seller</td>\n",
       "      <td>Air Jordan 1 Mid</td>\n",
       "      <td>Shoes</td>\n",
       "      <td>2 Colors</td>\n",
       "      <td>$125</td>\n",
       "      <td>NaN</td>\n",
       "      <td>https://www.nike.com/t/air-jordan-1-mid-shoes-...</td>\n",
       "      <td>Inspired by the original AJ1, the Air Jordan 1...</td>\n",
       "      <td>Black/White/Fire Red; Black/Black/Black</td>\n",
       "      <td>2161.0</td>\n",
       "      <td>4.9</td>\n",
       "    </tr>\n",
       "    <tr>\n",
       "      <th>1</th>\n",
       "      <td>1</td>\n",
       "      <td>Best Seller</td>\n",
       "      <td>Nike Blazer Mid '77 Vintage</td>\n",
       "      <td>Women's Shoes</td>\n",
       "      <td>3 Colors</td>\n",
       "      <td>$105</td>\n",
       "      <td>NaN</td>\n",
       "      <td>https://www.nike.com/t/blazer-mid-77-vintage-w...</td>\n",
       "      <td>Styled for the ‘70s. Loved in the ‘80s. Classi...</td>\n",
       "      <td>White/White/Peach/White; White/Sail/Peach/Blac...</td>\n",
       "      <td>519.0</td>\n",
       "      <td>4.8</td>\n",
       "    </tr>\n",
       "    <tr>\n",
       "      <th>2</th>\n",
       "      <td>2</td>\n",
       "      <td>Coming Soon</td>\n",
       "      <td>Nike Dunk Low Retro</td>\n",
       "      <td>Men's Shoes</td>\n",
       "      <td>1 Color</td>\n",
       "      <td>$110</td>\n",
       "      <td>NaN</td>\n",
       "      <td>https://www.nike.com/t/dunk-low-retro-mens-sho...</td>\n",
       "      <td>Created for the hardwood but taken to the stre...</td>\n",
       "      <td>NaN</td>\n",
       "      <td>NaN</td>\n",
       "      <td>NaN</td>\n",
       "    </tr>\n",
       "    <tr>\n",
       "      <th>3</th>\n",
       "      <td>3</td>\n",
       "      <td>Best Seller</td>\n",
       "      <td>Nike Air Force 1 '07</td>\n",
       "      <td>Men's Shoes</td>\n",
       "      <td>2 Colors</td>\n",
       "      <td>$110</td>\n",
       "      <td>NaN</td>\n",
       "      <td>https://www.nike.com/t/air-force-1-07-mens-sho...</td>\n",
       "      <td>The radiance lives on in the Nike Air Force 1 ...</td>\n",
       "      <td>Black/White; White/Black; Design your own Nike...</td>\n",
       "      <td>128.0</td>\n",
       "      <td>4.9</td>\n",
       "    </tr>\n",
       "    <tr>\n",
       "      <th>4</th>\n",
       "      <td>4</td>\n",
       "      <td>Best Seller</td>\n",
       "      <td>Air Jordan 12 Retro</td>\n",
       "      <td>Men's Shoes</td>\n",
       "      <td>1 Color</td>\n",
       "      <td>$200</td>\n",
       "      <td>NaN</td>\n",
       "      <td>https://www.nike.com/t/air-jordan-12-retro-men...</td>\n",
       "      <td>No need to call for a ride—MJ's game-winning l...</td>\n",
       "      <td>NaN</td>\n",
       "      <td>333.0</td>\n",
       "      <td>4.9</td>\n",
       "    </tr>\n",
       "  </tbody>\n",
       "</table>\n",
       "</div>"
      ],
      "text/plain": [
       "   Unnamed: 0        label                        title       subtitle  \\\n",
       "0           0  Best Seller             Air Jordan 1 Mid          Shoes   \n",
       "1           1  Best Seller  Nike Blazer Mid '77 Vintage  Women's Shoes   \n",
       "2           2  Coming Soon          Nike Dunk Low Retro    Men's Shoes   \n",
       "3           3  Best Seller         Nike Air Force 1 '07    Men's Shoes   \n",
       "4           4  Best Seller          Air Jordan 12 Retro    Men's Shoes   \n",
       "\n",
       "  num_colors price reduced_price  \\\n",
       "0   2 Colors  $125           NaN   \n",
       "1   3 Colors  $105           NaN   \n",
       "2    1 Color  $110           NaN   \n",
       "3   2 Colors  $110           NaN   \n",
       "4    1 Color  $200           NaN   \n",
       "\n",
       "                                                 url  \\\n",
       "0  https://www.nike.com/t/air-jordan-1-mid-shoes-...   \n",
       "1  https://www.nike.com/t/blazer-mid-77-vintage-w...   \n",
       "2  https://www.nike.com/t/dunk-low-retro-mens-sho...   \n",
       "3  https://www.nike.com/t/air-force-1-07-mens-sho...   \n",
       "4  https://www.nike.com/t/air-jordan-12-retro-men...   \n",
       "\n",
       "                                         description  \\\n",
       "0  Inspired by the original AJ1, the Air Jordan 1...   \n",
       "1  Styled for the ‘70s. Loved in the ‘80s. Classi...   \n",
       "2  Created for the hardwood but taken to the stre...   \n",
       "3  The radiance lives on in the Nike Air Force 1 ...   \n",
       "4  No need to call for a ride—MJ's game-winning l...   \n",
       "\n",
       "                                              colors  n_reviews  avg_stars  \n",
       "0            Black/White/Fire Red; Black/Black/Black     2161.0        4.9  \n",
       "1  White/White/Peach/White; White/Sail/Peach/Blac...      519.0        4.8  \n",
       "2                                                NaN        NaN        NaN  \n",
       "3  Black/White; White/Black; Design your own Nike...      128.0        4.9  \n",
       "4                                                NaN      333.0        4.9  "
      ]
     },
     "metadata": {},
     "output_type": "display_data"
    }
   ],
   "source": [
    "nike = pd.read_csv(\"data/nike.csv\")\n",
    "\n",
    "print(\"Basic information about our Nike.com dataset:\\n\")\n",
    "print(nike.info())\n",
    "print(\n",
    "    \"\\n\\nA little more summary info about our data \"\n",
    "    \"(there\\nare only a few columns in our data, making \"\n",
    "    \"this\\neasy to inspect):\\n\\n\",\n",
    "    nike.describe(),\n",
    ")\n",
    "print(\"\\n\\nAnd, the first few rows of our data:\")\n",
    "display(nike.head())"
   ]
  },
  {
   "cell_type": "markdown",
   "id": "fe3ddb3a",
   "metadata": {},
   "source": [
    "## Plot Numeric Variables"
   ]
  },
  {
   "cell_type": "code",
   "execution_count": 3,
   "id": "0d029356",
   "metadata": {},
   "outputs": [],
   "source": [
    "nike['price'] = nike['price'].str.replace('$','').astype(np.float64)\n",
    "nike['num_colors'] = nike['num_colors'].str.replace(' Colors','').str.replace(' Color','').astype(np.float64)"
   ]
  },
  {
   "cell_type": "code",
   "execution_count": 4,
   "id": "aeeb2a98",
   "metadata": {},
   "outputs": [
    {
     "data": {
      "image/png": "[encoded data removed]",
      "text/plain": [
       "<Figure size 1200x500 with 3 Axes>"
      ]
     },
     "metadata": {},
     "output_type": "display_data"
    }
   ],
   "source": [
    "fig, axes = plt.subplots(1, 3, sharey=True, figsize=(12, 5))\n",
    "\n",
    "fontsize = 14\n",
    "\n",
    "cols = [\"num_colors\", \"n_reviews\", \"avg_stars\"] \n",
    "title_vs_text = [\"num_colors\", \"n_reviews\", \"avg_stars\"]\n",
    "xlabels = [\"Number of Colors\", \"Number of Reviews\", \"Average Stars\"]\n",
    "\n",
    "for i, (ax, col, title_vs, xlabel) in enumerate(\n",
    "    zip(axes, cols, title_vs_text, xlabels)\n",
    "):\n",
    "\n",
    "    ax.scatter(nike[col], nike[\"price\"], alpha=0.4)\n",
    "    ax.set_title(\n",
    "        f\"Price vs. {title_vs}\",\n",
    "        fontsize=fontsize,\n",
    "    )\n",
    "    ax.set_xlabel(xlabel, fontsize=fontsize-2)\n",
    "    ax.set_ylabel(\n",
    "        \"Price\" if i==0 else None, \n",
    "        fontsize=fontsize-2\n",
    "    )\n",
    "    ax.grid(\":\", alpha=0.4)\n",
    "\n",
    "plt.tight_layout()"
   ]
  },
  {
   "cell_type": "code",
   "execution_count": 5,
   "id": "d68ad521",
   "metadata": {},
   "outputs": [
    {
     "name": "stderr",
     "output_type": "stream",
     "text": [
      "/var/folders/df/y6mck5f93m5_f04v7_qhxmp40000gn/T/ipykernel_58158/1564684238.py:1: FutureWarning: The default value of numeric_only in DataFrame.corr is deprecated. In a future version, it will default to False. Select only valid columns or specify the value of numeric_only to silence this warning.\n",
      "  cor = nike.drop('Unnamed: 0', axis=1).corr()\n"
     ]
    },
    {
     "data": {
      "image/png": "[encoded data removed]",
      "text/plain": [
       "<Figure size 640x480 with 2 Axes>"
      ]
     },
     "metadata": {},
     "output_type": "display_data"
    }
   ],
   "source": [
    "cor = nike.drop('Unnamed: 0', axis=1).corr()\n",
    "\n",
    "sns.heatmap(cor, cmap='Blues')\n",
    "plt.show()"
   ]
  },
  {
   "cell_type": "markdown",
   "id": "7602e818",
   "metadata": {},
   "source": [
    "## Plot Categorical Variables"
   ]
  },
  {
   "cell_type": "code",
   "execution_count": 6,
   "id": "73b3650f",
   "metadata": {},
   "outputs": [
    {
     "name": "stdout",
     "output_type": "stream",
     "text": [
      "There are 10 unique labels which are ['Best Seller', 'Coming Soon', nan, 'Sustainable Materials', 'Member Access', 'Customize', 'Just In', 'Launching in SNKRS', 'Available in SNKRS', 'Sold Out']\n"
     ]
    }
   ],
   "source": [
    "list_label = nike['label'].unique().tolist()\n",
    "len_label = len(list_label)\n",
    "print(f'There are {len_label} unique labels which are {list_label}')"
   ]
  },
  {
   "cell_type": "code",
   "execution_count": 7,
   "id": "18d96040",
   "metadata": {
    "tags": []
   },
   "outputs": [
    {
     "data": {
      "image/png": "[encoded data removed]",
      "text/plain": [
       "<Figure size 640x480 with 1 Axes>"
      ]
     },
     "metadata": {},
     "output_type": "display_data"
    }
   ],
   "source": [
    "labels_sorted = nike.groupby('label').price.median().sort_values(ascending=False)\n",
    "\n",
    "# order box plot by median\n",
    "sns.boxplot(data=nike, y='label', x='price', order=labels_sorted.index)\n",
    "plt.xlabel('Price')\n",
    "plt.ylabel('Label')\n",
    "plt.title('Sorted Boxplot of Price by Label')\n",
    "plt.show()"
   ]
  },
  {
   "cell_type": "code",
   "execution_count": 8,
   "id": "c7cb6731",
   "metadata": {},
   "outputs": [
    {
     "data": {
      "text/plain": [
       "Men's Shoes           224\n",
       "Women's Shoes         129\n",
       "Big Kids' Shoes       117\n",
       "Little Kids' Shoes     99\n",
       "Baby/Toddler Shoes     87\n",
       "Name: subtitle, dtype: int64"
      ]
     },
     "execution_count": 8,
     "metadata": {},
     "output_type": "execute_result"
    }
   ],
   "source": [
    "top_subtitles = nike.subtitle.value_counts().head()\n",
    "top_subtitles"
   ]
  },
  {
   "cell_type": "code",
   "execution_count": 9,
   "id": "7a47cd1e",
   "metadata": {},
   "outputs": [],
   "source": [
    "nike_top_subtitles = nike.loc[nike.subtitle.isin(top_subtitles.index.tolist())]"
   ]
  },
  {
   "cell_type": "code",
   "execution_count": 10,
   "id": "88afcae6",
   "metadata": {
    "tags": []
   },
   "outputs": [
    {
     "data": {
      "image/png": "[encoded data removed]",
      "text/plain": [
       "<Figure size 640x480 with 1 Axes>"
      ]
     },
     "metadata": {},
     "output_type": "display_data"
    }
   ],
   "source": [
    "top_subtitles_sorted = nike_top_subtitles.groupby('subtitle').price.median().sort_values(ascending=False)\n",
    "\n",
    "# order box plot by median\n",
    "sns.boxplot(data=nike_top_subtitles, y='subtitle', x='price', order=top_subtitles_sorted.index)\n",
    "plt.xlabel('Price')\n",
    "plt.ylabel('Subtitle')\n",
    "plt.title('Sorted Boxplot of Top Subtitles by Price')\n",
    "plt.show()"
   ]
  },
  {
   "cell_type": "markdown",
   "id": "e35829a3",
   "metadata": {},
   "source": [
    "* This makes sense, as subtitle category could be a proxy for average shoe size"
   ]
  },
  {
   "cell_type": "markdown",
   "id": "c55f12a3",
   "metadata": {},
   "source": [
    "## Numeric Stats"
   ]
  },
  {
   "cell_type": "code",
   "execution_count": 4,
   "id": "2b4d81e7",
   "metadata": {},
   "outputs": [
    {
     "name": "stdout",
     "output_type": "stream",
     "text": [
      "\n",
      "The mean price is 108.3433 \n",
      "The mean number of colors is 3.5322 \n",
      "The Standard Deviation of price is 47.8272\n",
      "The Standard Deviation of number of colors is 3.3771\n"
     ]
    }
   ],
   "source": [
    "mean_price = nike[\"price\"].mean() \n",
    "mean_noc = nike[\"num_colors\"].mean()\n",
    "std_price = nike[\"price\"].std() \n",
    "std_noc = nike[\"num_colors\"].std()\n",
    "print(\n",
    "    \"\\n\"\n",
    "    f\"The mean price is {mean_price:.4f} \\n\"\n",
    "    f\"The mean number of colors is {mean_noc:.4f} \\n\"\n",
    "    f\"The Standard Deviation of price is {std_price:.4f}\\n\"\n",
    "    f\"The Standard Deviation of number of colors is {std_noc:.4f}\"\n",
    ")"
   ]
  },
  {
   "cell_type": "code",
   "execution_count": 5,
   "id": "b477fbe3",
   "metadata": {},
   "outputs": [
    {
     "name": "stdout",
     "output_type": "stream",
     "text": [
      "The range of price for which shoes in our dataset is 325.00 dolloars. \n",
      "\n",
      "The maximum number of price is 350.00, and the minimum is 25.00.\n"
     ]
    }
   ],
   "source": [
    "price_min = nike[\"price\"].min()\n",
    "price_max = nike[\"price\"].max() \n",
    "price_range = price_max - price_min \n",
    "\n",
    "print(\n",
    "    f\"The range of price for which shoes in our dataset \"\n",
    "    f\"is {price_range:,.2f} dolloars. \\n\\n\"\n",
    "    f\"The maximum number of price is {price_max:,.2f}, \"\n",
    "    f\"and the minimum is {price_min:,.2f}.\"\n",
    ")"
   ]
  },
  {
   "cell_type": "code",
   "execution_count": 6,
   "id": "1e15cd7a",
   "metadata": {},
   "outputs": [
    {
     "name": "stderr",
     "output_type": "stream",
     "text": [
      "/Users/mina/opt/anaconda3/lib/python3.8/site-packages/seaborn/distributions.py:2551: FutureWarning: `distplot` is a deprecated function and will be removed in a future version. Please adapt your code to use either `displot` (a figure-level function with similar flexibility) or `histplot` (an axes-level function for histograms).\n",
      "  warnings.warn(msg, FutureWarning)\n"
     ]
    },
    {
     "data": {
      "image/png": "[encoded data removed]",
      "text/plain": [
       "<Figure size 1200x800 with 1 Axes>"
      ]
     },
     "metadata": {},
     "output_type": "display_data"
    }
   ],
   "source": [
    "plt.figure(figsize=(12,8))\n",
    "#ploting the mean\n",
    "plt.axvline(mean_price, 0, 1, color = 'red', label='Mean of Shoes Price')\n",
    "sns.distplot(nike['price'], color='orange')\n",
    "plt.title(\"Distirbution of price range of Nike Shoes\")\n",
    "plt.text(mean_price * 1.1, 0.008, f'mean = {mean_price: .2f}', fontsize=10)\n",
    "plt.legend()\n",
    "plt.show()"
   ]
  },
  {
   "cell_type": "markdown",
   "id": "013dcbed",
   "metadata": {},
   "source": [
    "## Missing Data"
   ]
  },
  {
   "cell_type": "code",
   "execution_count": 14,
   "id": "7c39241a",
   "metadata": {},
   "outputs": [
    {
     "data": {
      "text/plain": [
       "Unnamed: 0         0\n",
       "label            959\n",
       "title              0\n",
       "subtitle           1\n",
       "num_colors         0\n",
       "price              2\n",
       "reduced_price    789\n",
       "url                0\n",
       "description       28\n",
       "colors           528\n",
       "n_reviews         97\n",
       "avg_stars         97\n",
       "dtype: int64"
      ]
     },
     "execution_count": 14,
     "metadata": {},
     "output_type": "execute_result"
    }
   ],
   "source": [
    "n_rows_with_missingness = np.int64(sum([True for idx,row in nike.iterrows() if any(row.isnull())]))\n",
    "n_cols_with_missingness = np.int64(sum(nike.apply(lambda x: sum(x.isnull().values), axis = 0)>0))\n",
    "\n",
    "columns = nike.columns.values\n",
    "col_num = []\n",
    "for i in columns:\n",
    "    col_num.append(nike[i].isnull().sum())\n",
    "col_missingness = pd.Series(col_num, index=nike.columns)\n",
    "col_missingness"
   ]
  },
  {
   "cell_type": "code",
   "execution_count": 15,
   "id": "f732e075",
   "metadata": {},
   "outputs": [],
   "source": [
    "# Replaced Missing Values with Median For Now\n",
    "median_price = nike['price'].median()\n",
    "nike['price'].fillna(median_price, inplace=True)"
   ]
  },
  {
   "cell_type": "markdown",
   "id": "6afb651b",
   "metadata": {},
   "source": [
    "## NLP: Text Preprocessing"
   ]
  },
  {
   "cell_type": "markdown",
   "id": "cd3a618b",
   "metadata": {},
   "source": [
    "## Process Column `description` from Raw Text to Bag-of-Words"
   ]
  },
  {
   "cell_type": "code",
   "execution_count": 22,
   "id": "4a0197e3",
   "metadata": {},
   "outputs": [
    {
     "data": {
      "text/html": [
       "<div>\n",
       "<style scoped>\n",
       "    .dataframe tbody tr th:only-of-type {\n",
       "        vertical-align: middle;\n",
       "    }\n",
       "\n",
       "    .dataframe tbody tr th {\n",
       "        vertical-align: top;\n",
       "    }\n",
       "\n",
       "    .dataframe thead th {\n",
       "        text-align: right;\n",
       "    }\n",
       "</style>\n",
       "<table border=\"1\" class=\"dataframe\">\n",
       "  <thead>\n",
       "    <tr style=\"text-align: right;\">\n",
       "      <th></th>\n",
       "      <th>description</th>\n",
       "      <th>price</th>\n",
       "    </tr>\n",
       "  </thead>\n",
       "  <tbody>\n",
       "    <tr>\n",
       "      <th>0</th>\n",
       "      <td>Inspired by the original AJ1, the Air Jordan 1...</td>\n",
       "      <td>125.0</td>\n",
       "    </tr>\n",
       "    <tr>\n",
       "      <th>1</th>\n",
       "      <td>Styled for the ‘70s. Loved in the ‘80s. Classi...</td>\n",
       "      <td>105.0</td>\n",
       "    </tr>\n",
       "    <tr>\n",
       "      <th>2</th>\n",
       "      <td>Created for the hardwood but taken to the stre...</td>\n",
       "      <td>110.0</td>\n",
       "    </tr>\n",
       "    <tr>\n",
       "      <th>3</th>\n",
       "      <td>The radiance lives on in the Nike Air Force 1 ...</td>\n",
       "      <td>110.0</td>\n",
       "    </tr>\n",
       "    <tr>\n",
       "      <th>4</th>\n",
       "      <td>No need to call for a ride—MJ's game-winning l...</td>\n",
       "      <td>200.0</td>\n",
       "    </tr>\n",
       "  </tbody>\n",
       "</table>\n",
       "</div>"
      ],
      "text/plain": [
       "                                         description  price\n",
       "0  Inspired by the original AJ1, the Air Jordan 1...  125.0\n",
       "1  Styled for the ‘70s. Loved in the ‘80s. Classi...  105.0\n",
       "2  Created for the hardwood but taken to the stre...  110.0\n",
       "3  The radiance lives on in the Nike Air Force 1 ...  110.0\n",
       "4  No need to call for a ride—MJ's game-winning l...  200.0"
      ]
     },
     "execution_count": 22,
     "metadata": {},
     "output_type": "execute_result"
    }
   ],
   "source": [
    "df_desc = nike.loc[:, ['description', 'price']].copy()  # subset\n",
    "df_desc.dropna(inplace=True)  # drop na\n",
    "df_desc.head()"
   ]
  },
  {
   "cell_type": "code",
   "execution_count": 23,
   "id": "c621104c",
   "metadata": {},
   "outputs": [],
   "source": [
    "# to lower\n",
    "df_desc['description'] = df_desc['description'].str.lower()"
   ]
  },
  {
   "cell_type": "code",
   "execution_count": 24,
   "id": "c7182120",
   "metadata": {},
   "outputs": [],
   "source": [
    "# remove punctuation\n",
    "df_desc['description'] = df_desc['description'].str.replace(r'([^\\w\\s]|_)+', '', regex=True)"
   ]
  },
  {
   "cell_type": "code",
   "execution_count": 25,
   "id": "ea613fc5",
   "metadata": {},
   "outputs": [],
   "source": [
    "# tokenization\n",
    "df_desc['description'] = df_desc['description'].str.split()"
   ]
  },
  {
   "cell_type": "code",
   "execution_count": 26,
   "id": "b7f6b61c",
   "metadata": {},
   "outputs": [],
   "source": [
    "# load list of stop words\n",
    "stopwords = pd.read_csv('data/stopwords_nopunc.csv').stopwords.values"
   ]
  },
  {
   "cell_type": "code",
   "execution_count": 27,
   "id": "bd538cb4",
   "metadata": {},
   "outputs": [],
   "source": [
    "# remove stop words from data\n",
    "df_desc['description'] = df_desc['description'].apply(lambda x: [str(w) for w in x if w not in stopwords])"
   ]
  },
  {
   "cell_type": "code",
   "execution_count": 28,
   "id": "90b829fc",
   "metadata": {},
   "outputs": [],
   "source": [
    "# create a dictionary (or Series) with the counts of each unique vocab word\n",
    "vocab_counts = df_desc['description'].explode().value_counts()"
   ]
  },
  {
   "cell_type": "code",
   "execution_count": 29,
   "id": "d47c0c97",
   "metadata": {},
   "outputs": [],
   "source": [
    "# define vocabulary\n",
    "# list of unique words occuring at least 5 times in the dataset\n",
    "min_count = 5\n",
    "vocab = [k for k,v in vocab_counts.items() if v >= 5]"
   ]
  },
  {
   "cell_type": "code",
   "execution_count": 30,
   "id": "1ebb4ea9",
   "metadata": {},
   "outputs": [
    {
     "name": "stdout",
     "output_type": "stream",
     "text": [
      "We have 1,425 unique words in our reduced, corpus vocabulary.\n"
     ]
    }
   ],
   "source": [
    "print(f\"We have {len(vocab):,} unique words in our reduced, corpus vocabulary.\")"
   ]
  },
  {
   "cell_type": "code",
   "execution_count": 31,
   "id": "620e8c2c",
   "metadata": {},
   "outputs": [],
   "source": [
    "# remove low-occurance words\n",
    "df_desc['description'] = df_desc['description'].apply(lambda x: [w for w in x if w in vocab])"
   ]
  },
  {
   "cell_type": "code",
   "execution_count": 32,
   "id": "65e2bfae",
   "metadata": {},
   "outputs": [],
   "source": [
    "# bag of words representation\n",
    "# list of Counters\n",
    "# each Counter containing word counts for each row in the DataFrame\n",
    "counts = df_desc['description'].apply(Counter).to_list()"
   ]
  },
  {
   "cell_type": "code",
   "execution_count": 33,
   "id": "6017d485",
   "metadata": {},
   "outputs": [],
   "source": [
    "# Create bag-of-words df from list of dictionaries\n",
    "bow_df = pd.DataFrame(counts).fillna(0).astype(int)"
   ]
  },
  {
   "cell_type": "markdown",
   "id": "c416276d",
   "metadata": {
    "tags": []
   },
   "source": [
    "## Make `price` Categorical with Binning"
   ]
  },
  {
   "cell_type": "code",
   "execution_count": 34,
   "id": "a5cbf8fa",
   "metadata": {},
   "outputs": [],
   "source": [
    "df_desc.reset_index(drop=True, inplace=True)"
   ]
  },
  {
   "cell_type": "code",
   "execution_count": 35,
   "id": "729ea2a7",
   "metadata": {},
   "outputs": [
    {
     "data": {
      "text/html": [
       "<div>\n",
       "<style scoped>\n",
       "    .dataframe tbody tr th:only-of-type {\n",
       "        vertical-align: middle;\n",
       "    }\n",
       "\n",
       "    .dataframe tbody tr th {\n",
       "        vertical-align: top;\n",
       "    }\n",
       "\n",
       "    .dataframe thead th {\n",
       "        text-align: right;\n",
       "    }\n",
       "</style>\n",
       "<table border=\"1\" class=\"dataframe\">\n",
       "  <thead>\n",
       "    <tr style=\"text-align: right;\">\n",
       "      <th></th>\n",
       "      <th>inspired</th>\n",
       "      <th>original</th>\n",
       "      <th>aj1</th>\n",
       "      <th>air</th>\n",
       "      <th>jordan</th>\n",
       "      <th>1</th>\n",
       "      <th>mid</th>\n",
       "      <th>offers</th>\n",
       "      <th>fans</th>\n",
       "      <th>follow</th>\n",
       "      <th>...</th>\n",
       "      <th>use</th>\n",
       "      <th>unleash</th>\n",
       "      <th>grass</th>\n",
       "      <th>artisan</th>\n",
       "      <th>coating</th>\n",
       "      <th>slides</th>\n",
       "      <th>decades</th>\n",
       "      <th>eyestays</th>\n",
       "      <th>pink</th>\n",
       "      <th>price</th>\n",
       "    </tr>\n",
       "  </thead>\n",
       "  <tbody>\n",
       "    <tr>\n",
       "      <th>0</th>\n",
       "      <td>1</td>\n",
       "      <td>1</td>\n",
       "      <td>1</td>\n",
       "      <td>1</td>\n",
       "      <td>1</td>\n",
       "      <td>1</td>\n",
       "      <td>1</td>\n",
       "      <td>1</td>\n",
       "      <td>1</td>\n",
       "      <td>1</td>\n",
       "      <td>...</td>\n",
       "      <td>0</td>\n",
       "      <td>0</td>\n",
       "      <td>0</td>\n",
       "      <td>0</td>\n",
       "      <td>0</td>\n",
       "      <td>0</td>\n",
       "      <td>0</td>\n",
       "      <td>0</td>\n",
       "      <td>0</td>\n",
       "      <td>125.0</td>\n",
       "    </tr>\n",
       "    <tr>\n",
       "      <th>1</th>\n",
       "      <td>0</td>\n",
       "      <td>0</td>\n",
       "      <td>0</td>\n",
       "      <td>0</td>\n",
       "      <td>0</td>\n",
       "      <td>0</td>\n",
       "      <td>1</td>\n",
       "      <td>0</td>\n",
       "      <td>0</td>\n",
       "      <td>0</td>\n",
       "      <td>...</td>\n",
       "      <td>0</td>\n",
       "      <td>0</td>\n",
       "      <td>0</td>\n",
       "      <td>0</td>\n",
       "      <td>0</td>\n",
       "      <td>0</td>\n",
       "      <td>0</td>\n",
       "      <td>0</td>\n",
       "      <td>0</td>\n",
       "      <td>105.0</td>\n",
       "    </tr>\n",
       "    <tr>\n",
       "      <th>2</th>\n",
       "      <td>0</td>\n",
       "      <td>1</td>\n",
       "      <td>0</td>\n",
       "      <td>0</td>\n",
       "      <td>0</td>\n",
       "      <td>0</td>\n",
       "      <td>0</td>\n",
       "      <td>0</td>\n",
       "      <td>0</td>\n",
       "      <td>0</td>\n",
       "      <td>...</td>\n",
       "      <td>0</td>\n",
       "      <td>0</td>\n",
       "      <td>0</td>\n",
       "      <td>0</td>\n",
       "      <td>0</td>\n",
       "      <td>0</td>\n",
       "      <td>0</td>\n",
       "      <td>0</td>\n",
       "      <td>0</td>\n",
       "      <td>110.0</td>\n",
       "    </tr>\n",
       "    <tr>\n",
       "      <th>3</th>\n",
       "      <td>0</td>\n",
       "      <td>0</td>\n",
       "      <td>0</td>\n",
       "      <td>1</td>\n",
       "      <td>0</td>\n",
       "      <td>1</td>\n",
       "      <td>0</td>\n",
       "      <td>0</td>\n",
       "      <td>0</td>\n",
       "      <td>0</td>\n",
       "      <td>...</td>\n",
       "      <td>0</td>\n",
       "      <td>0</td>\n",
       "      <td>0</td>\n",
       "      <td>0</td>\n",
       "      <td>0</td>\n",
       "      <td>0</td>\n",
       "      <td>0</td>\n",
       "      <td>0</td>\n",
       "      <td>0</td>\n",
       "      <td>110.0</td>\n",
       "    </tr>\n",
       "    <tr>\n",
       "      <th>4</th>\n",
       "      <td>0</td>\n",
       "      <td>1</td>\n",
       "      <td>0</td>\n",
       "      <td>1</td>\n",
       "      <td>0</td>\n",
       "      <td>0</td>\n",
       "      <td>0</td>\n",
       "      <td>0</td>\n",
       "      <td>0</td>\n",
       "      <td>0</td>\n",
       "      <td>...</td>\n",
       "      <td>0</td>\n",
       "      <td>0</td>\n",
       "      <td>0</td>\n",
       "      <td>0</td>\n",
       "      <td>0</td>\n",
       "      <td>0</td>\n",
       "      <td>0</td>\n",
       "      <td>0</td>\n",
       "      <td>0</td>\n",
       "      <td>200.0</td>\n",
       "    </tr>\n",
       "  </tbody>\n",
       "</table>\n",
       "<p>5 rows × 1426 columns</p>\n",
       "</div>"
      ],
      "text/plain": [
       "   inspired  original  aj1  air  jordan  1  mid  offers  fans  follow  ...  \\\n",
       "0         1         1    1    1       1  1    1       1     1       1  ...   \n",
       "1         0         0    0    0       0  0    1       0     0       0  ...   \n",
       "2         0         1    0    0       0  0    0       0     0       0  ...   \n",
       "3         0         0    0    1       0  1    0       0     0       0  ...   \n",
       "4         0         1    0    1       0  0    0       0     0       0  ...   \n",
       "\n",
       "   use  unleash  grass  artisan  coating  slides  decades  eyestays  pink  \\\n",
       "0    0        0      0        0        0       0        0         0     0   \n",
       "1    0        0      0        0        0       0        0         0     0   \n",
       "2    0        0      0        0        0       0        0         0     0   \n",
       "3    0        0      0        0        0       0        0         0     0   \n",
       "4    0        0      0        0        0       0        0         0     0   \n",
       "\n",
       "   price  \n",
       "0  125.0  \n",
       "1  105.0  \n",
       "2  110.0  \n",
       "3  110.0  \n",
       "4  200.0  \n",
       "\n",
       "[5 rows x 1426 columns]"
      ]
     },
     "execution_count": 35,
     "metadata": {},
     "output_type": "execute_result"
    }
   ],
   "source": [
    "# combine what is effectively our X and y into a single DataFrame\n",
    "df_processed = pd.concat([bow_df, df_desc['price']], axis=1)\n",
    "df_processed.head()"
   ]
  },
  {
   "cell_type": "code",
   "execution_count": 36,
   "id": "7a942ba0",
   "metadata": {},
   "outputs": [
    {
     "data": {
      "text/plain": [
       "0        (90.0, 155.0]\n",
       "1        (90.0, 155.0]\n",
       "2        (90.0, 155.0]\n",
       "3        (90.0, 155.0]\n",
       "4       (155.0, 220.0]\n",
       "             ...      \n",
       "1335    (24.675, 90.0]\n",
       "1336    (24.675, 90.0]\n",
       "1337     (90.0, 155.0]\n",
       "1338     (90.0, 155.0]\n",
       "1339    (24.675, 90.0]\n",
       "Name: price, Length: 1340, dtype: category\n",
       "Categories (5, interval[float64, right]): [(24.675, 90.0] < (90.0, 155.0] < (155.0, 220.0] < (220.0, 285.0] < (285.0, 350.0]]"
      ]
     },
     "execution_count": 36,
     "metadata": {},
     "output_type": "execute_result"
    }
   ],
   "source": [
    "# split price into bins to make it categorical\n",
    "df_processed['price'] = pd.cut(df_processed['price'], bins=5)\n",
    "df_processed['price']"
   ]
  },
  {
   "cell_type": "code",
   "execution_count": 37,
   "id": "7fb9872a",
   "metadata": {},
   "outputs": [],
   "source": [
    "df_processed['price'] = df_processed['price'].astype('string')"
   ]
  },
  {
   "cell_type": "markdown",
   "id": "13e7c038",
   "metadata": {},
   "source": [
    "## Naive Bayes Model of `price ~ bag_of_words(description)`"
   ]
  },
  {
   "cell_type": "code",
   "execution_count": 38,
   "id": "4ea98bda",
   "metadata": {},
   "outputs": [],
   "source": [
    "X_train, X_test, y_train, y_test = train_test_split(df_processed.drop('price', axis=1),\n",
    "                                                    df_processed['price'], test_size=0.2, random_state=109)"
   ]
  },
  {
   "cell_type": "code",
   "execution_count": 39,
   "id": "45b8d5c8",
   "metadata": {},
   "outputs": [],
   "source": [
    "mnb = MultinomialNB().fit(X_train, y_train)"
   ]
  },
  {
   "cell_type": "code",
   "execution_count": 40,
   "id": "3d81a603",
   "metadata": {},
   "outputs": [
    {
     "data": {
      "text/plain": [
       "0.7164179104477612"
      ]
     },
     "execution_count": 40,
     "metadata": {},
     "output_type": "execute_result"
    }
   ],
   "source": [
    "mnb.score(X_test, y_test)"
   ]
  },
  {
   "cell_type": "markdown",
   "id": "9826048a",
   "metadata": {},
   "source": [
    "***Feature importance for each class:***"
   ]
  },
  {
   "cell_type": "code",
   "execution_count": 41,
   "id": "e88b77c4",
   "metadata": {},
   "outputs": [
    {
     "data": {
      "text/plain": [
       "(24.675, 90.0]    464\n",
       "(90.0, 155.0]     455\n",
       "(155.0, 220.0]    133\n",
       "(220.0, 285.0]     16\n",
       "(285.0, 350.0]      4\n",
       "Name: price, dtype: Int64"
      ]
     },
     "execution_count": 41,
     "metadata": {},
     "output_type": "execute_result"
    }
   ],
   "source": [
    "# 5 brackets\n",
    "y_train.value_counts(sort=False)"
   ]
  },
  {
   "cell_type": "code",
   "execution_count": 42,
   "id": "23843005",
   "metadata": {},
   "outputs": [],
   "source": [
    "# get most predictive words for each class (bracket 1 and bracket 3)\n",
    "feat_imp_list = []\n",
    "\n",
    "for i in range(len(mnb.classes_)):\n",
    "    class_prob_sorted = mnb.feature_log_prob_[i, :].argsort()[::-1]\n",
    "    top_pred_words = np.take(bow_df.columns, class_prob_sorted[:])\n",
    "    feat_imp_list.append(top_pred_words)"
   ]
  },
  {
   "cell_type": "markdown",
   "id": "fa4acb87",
   "metadata": {},
   "source": [
    "The top 10 most predictive words for each price bracket:"
   ]
  },
  {
   "cell_type": "code",
   "execution_count": 43,
   "id": "7f93e9d1",
   "metadata": {},
   "outputs": [
    {
     "data": {
      "text/html": [
       "<div>\n",
       "<style scoped>\n",
       "    .dataframe tbody tr th:only-of-type {\n",
       "        vertical-align: middle;\n",
       "    }\n",
       "\n",
       "    .dataframe tbody tr th {\n",
       "        vertical-align: top;\n",
       "    }\n",
       "\n",
       "    .dataframe thead th {\n",
       "        text-align: right;\n",
       "    }\n",
       "</style>\n",
       "<table border=\"1\" class=\"dataframe\">\n",
       "  <thead>\n",
       "    <tr style=\"text-align: right;\">\n",
       "      <th></th>\n",
       "      <th>(24.675, 90.0]</th>\n",
       "      <th>(90.0, 155.0]</th>\n",
       "      <th>(155.0, 220.0]</th>\n",
       "      <th>(220.0, 285.0]</th>\n",
       "      <th>(285.0, 350.0]</th>\n",
       "    </tr>\n",
       "  </thead>\n",
       "  <tbody>\n",
       "    <tr>\n",
       "      <th>0</th>\n",
       "      <td>nike</td>\n",
       "      <td>air</td>\n",
       "      <td>air</td>\n",
       "      <td>air</td>\n",
       "      <td>air</td>\n",
       "    </tr>\n",
       "    <tr>\n",
       "      <th>1</th>\n",
       "      <td>design</td>\n",
       "      <td>nike</td>\n",
       "      <td>nike</td>\n",
       "      <td>nike</td>\n",
       "      <td>cleat</td>\n",
       "    </tr>\n",
       "    <tr>\n",
       "      <th>2</th>\n",
       "      <td>air</td>\n",
       "      <td>design</td>\n",
       "      <td>design</td>\n",
       "      <td>features</td>\n",
       "      <td>nike</td>\n",
       "    </tr>\n",
       "    <tr>\n",
       "      <th>3</th>\n",
       "      <td>little</td>\n",
       "      <td>comfort</td>\n",
       "      <td>max</td>\n",
       "      <td>phantom</td>\n",
       "      <td>zoom</td>\n",
       "    </tr>\n",
       "    <tr>\n",
       "      <th>4</th>\n",
       "      <td>comfort</td>\n",
       "      <td>cushioning</td>\n",
       "      <td>cushioning</td>\n",
       "      <td>design</td>\n",
       "      <td>like</td>\n",
       "    </tr>\n",
       "    <tr>\n",
       "      <th>5</th>\n",
       "      <td>foam</td>\n",
       "      <td>classic</td>\n",
       "      <td>feel</td>\n",
       "      <td>elite</td>\n",
       "      <td>soccer</td>\n",
       "    </tr>\n",
       "    <tr>\n",
       "      <th>6</th>\n",
       "      <td>classic</td>\n",
       "      <td>look</td>\n",
       "      <td>comfort</td>\n",
       "      <td>zoom</td>\n",
       "      <td>made</td>\n",
       "    </tr>\n",
       "    <tr>\n",
       "      <th>7</th>\n",
       "      <td>cushioning</td>\n",
       "      <td>upper</td>\n",
       "      <td>style</td>\n",
       "      <td>next</td>\n",
       "      <td>control</td>\n",
       "    </tr>\n",
       "    <tr>\n",
       "      <th>8</th>\n",
       "      <td>durable</td>\n",
       "      <td>feel</td>\n",
       "      <td>upper</td>\n",
       "      <td>provides</td>\n",
       "      <td>nods</td>\n",
       "    </tr>\n",
       "    <tr>\n",
       "      <th>9</th>\n",
       "      <td>made</td>\n",
       "      <td>max</td>\n",
       "      <td>look</td>\n",
       "      <td>control</td>\n",
       "      <td>world</td>\n",
       "    </tr>\n",
       "  </tbody>\n",
       "</table>\n",
       "</div>"
      ],
      "text/plain": [
       "  (24.675, 90.0] (90.0, 155.0] (155.0, 220.0] (220.0, 285.0] (285.0, 350.0]\n",
       "0           nike           air            air            air            air\n",
       "1         design          nike           nike           nike          cleat\n",
       "2            air        design         design       features           nike\n",
       "3         little       comfort            max        phantom           zoom\n",
       "4        comfort    cushioning     cushioning         design           like\n",
       "5           foam       classic           feel          elite         soccer\n",
       "6        classic          look        comfort           zoom           made\n",
       "7     cushioning         upper          style           next        control\n",
       "8        durable          feel          upper       provides           nods\n",
       "9           made           max           look        control          world"
      ]
     },
     "execution_count": 43,
     "metadata": {},
     "output_type": "execute_result"
    }
   ],
   "source": [
    "# prettify list to df\n",
    "feat_imp_df = pd.DataFrame(np.array(feat_imp_list).T, columns=mnb.classes_)\n",
    "feat_imp_df = feat_imp_df.loc[:, y_train.value_counts(sort=False).index]  # reorder columns\n",
    "feat_imp_df.head(10)"
   ]
  },
  {
   "cell_type": "markdown",
   "id": "b6c0eb6e",
   "metadata": {},
   "source": [
    "## Baseline Model - OLS"
   ]
  },
  {
   "cell_type": "code",
   "execution_count": 44,
   "id": "fc1e4dc2",
   "metadata": {},
   "outputs": [],
   "source": [
    "# Initialize a list to store the MSE values and R2 scores\n",
    "mse_list = []\n",
    "r2_list = []\n",
    "# List of all predictor combinations to fit the curve\n",
    "cols = [['num_colors'],['n_reviews'],['avg_stars'],['num_colors','n_reviews'],['avg_stars','n_reviews'],['num_colors','avg_stars'],['num_colors','n_reviews','avg_stars']]\n",
    "nike['num_colors'].fillna(nike['num_colors'].median(), inplace=True)\n",
    "nike['n_reviews'].fillna(nike['n_reviews'].median(), inplace=True)\n",
    "nike['avg_stars'].fillna(nike['avg_stars'].median(), inplace=True)\n",
    "\n"
   ]
  },
  {
   "cell_type": "code",
   "execution_count": 45,
   "id": "29c1da10",
   "metadata": {},
   "outputs": [
    {
     "name": "stdout",
     "output_type": "stream",
     "text": [
      "['num_colors']\n",
      "['n_reviews']\n",
      "['avg_stars']\n",
      "['num_colors', 'n_reviews']\n",
      "['avg_stars', 'n_reviews']\n",
      "['num_colors', 'avg_stars']\n",
      "['num_colors', 'n_reviews', 'avg_stars']\n"
     ]
    }
   ],
   "source": [
    "# Loop over all the predictor combinations \n",
    "for i in cols:\n",
    "    # Replaced Missing Values with Median For Now\n",
    "    \n",
    "    print(i)\n",
    "    # Set each of the predictors from the previous list as x\n",
    "    x = nike[i]\n",
    "    # Set the \"Sales\" column as the reponse variable\n",
    "    y = nike['price']\n",
    "   \n",
    "    # Split the data into train-test sets with 80% training data and 20% testing data. \n",
    "    # Set random_state as 0\n",
    "    x_train, x_test, y_train, y_test = train_test_split(x, y, train_size=.8,random_state=0)\n",
    "\n",
    "    # Initialize a Linear Regression model\n",
    "    lreg = LinearRegression()\n",
    "\n",
    "    # Fit the linear model on the train data\n",
    "    lreg.fit(x_train,y_train)\n",
    "    \n",
    "    # Predict the response variable for the test set using the trained model\n",
    "    y_pred= lreg.predict(x_test)\n",
    "    \n",
    "    # Compute the MSE for the test data\n",
    "    MSE = mean_squared_error(y_pred,y_test)\n",
    "    r2 = r2_score(y_test, y_pred)\n",
    "    \n",
    "    # Append the computed MSE to the list\n",
    "    mse_list.append(MSE)\n",
    "    r2_list.append(r2)"
   ]
  },
  {
   "cell_type": "code",
   "execution_count": 46,
   "id": "af561b77",
   "metadata": {},
   "outputs": [
    {
     "name": "stdout",
     "output_type": "stream",
     "text": [
      "+------------------------------------------+---------+\n",
      "|                Predictors                |   MSE   |\n",
      "+------------------------------------------+---------+\n",
      "|              ['num_colors']              | 1974.42 |\n",
      "|              ['n_reviews']               | 1967.54 |\n",
      "|              ['avg_stars']               | 1976.13 |\n",
      "|       ['num_colors', 'n_reviews']        | 1968.04 |\n",
      "|        ['avg_stars', 'n_reviews']        | 1970.56 |\n",
      "|       ['num_colors', 'avg_stars']        | 1976.64 |\n",
      "| ['num_colors', 'n_reviews', 'avg_stars'] | 1971.13 |\n",
      "+------------------------------------------+---------+\n",
      "+------------------------------------------+----------+\n",
      "|                Predictors                | R2 score |\n",
      "+------------------------------------------+----------+\n",
      "|              ['num_colors']              |  -0.01   |\n",
      "|              ['n_reviews']               |   -0.0   |\n",
      "|              ['avg_stars']               |  -0.01   |\n",
      "|       ['num_colors', 'n_reviews']        |   -0.0   |\n",
      "|        ['avg_stars', 'n_reviews']        |   -0.0   |\n",
      "|       ['num_colors', 'avg_stars']        |  -0.01   |\n",
      "| ['num_colors', 'n_reviews', 'avg_stars'] |   -0.0   |\n",
      "+------------------------------------------+----------+\n"
     ]
    }
   ],
   "source": [
    "# Helper code to display the MSE for each predictor combination\n",
    "t = PrettyTable(['Predictors', 'MSE'])\n",
    "p = PrettyTable(['Predictors', 'R2 score'])\n",
    "\n",
    "for i in range(len(mse_list)):\n",
    "    t.add_row([cols[i],round(mse_list[i], 2)])\n",
    "    p.add_row([cols[i],round(r2_list[i], 2)])\n",
    "    \n",
    "\n",
    "print(t)\n",
    "print(p)"
   ]
  },
  {
   "cell_type": "markdown",
   "id": "9dbc0699",
   "metadata": {},
   "source": [
    "## Prep Data for Advanced Modeling"
   ]
  },
  {
   "cell_type": "markdown",
   "id": "38556fd0",
   "metadata": {},
   "source": [
    "### Non text features"
   ]
  },
  {
   "cell_type": "code",
   "execution_count": 47,
   "id": "e8310662",
   "metadata": {},
   "outputs": [
    {
     "data": {
      "text/html": [
       "<div>\n",
       "<style scoped>\n",
       "    .dataframe tbody tr th:only-of-type {\n",
       "        vertical-align: middle;\n",
       "    }\n",
       "\n",
       "    .dataframe tbody tr th {\n",
       "        vertical-align: top;\n",
       "    }\n",
       "\n",
       "    .dataframe thead th {\n",
       "        text-align: right;\n",
       "    }\n",
       "</style>\n",
       "<table border=\"1\" class=\"dataframe\">\n",
       "  <thead>\n",
       "    <tr style=\"text-align: right;\">\n",
       "      <th></th>\n",
       "      <th>Unnamed: 0</th>\n",
       "      <th>label</th>\n",
       "      <th>title</th>\n",
       "      <th>subtitle</th>\n",
       "      <th>num_colors</th>\n",
       "      <th>price</th>\n",
       "      <th>reduced_price</th>\n",
       "      <th>url</th>\n",
       "      <th>description</th>\n",
       "      <th>colors</th>\n",
       "      <th>n_reviews</th>\n",
       "      <th>avg_stars</th>\n",
       "    </tr>\n",
       "  </thead>\n",
       "  <tbody>\n",
       "    <tr>\n",
       "      <th>0</th>\n",
       "      <td>0</td>\n",
       "      <td>Best Seller</td>\n",
       "      <td>Air Jordan 1 Mid</td>\n",
       "      <td>Shoes</td>\n",
       "      <td>2.0</td>\n",
       "      <td>125.0</td>\n",
       "      <td>NaN</td>\n",
       "      <td>https://www.nike.com/t/air-jordan-1-mid-shoes-...</td>\n",
       "      <td>Inspired by the original AJ1, the Air Jordan 1...</td>\n",
       "      <td>Black/White/Fire Red; Black/Black/Black</td>\n",
       "      <td>2161.0</td>\n",
       "      <td>4.9</td>\n",
       "    </tr>\n",
       "  </tbody>\n",
       "</table>\n",
       "</div>"
      ],
      "text/plain": [
       "   Unnamed: 0        label             title subtitle  num_colors  price  \\\n",
       "0           0  Best Seller  Air Jordan 1 Mid    Shoes         2.0  125.0   \n",
       "\n",
       "  reduced_price                                                url  \\\n",
       "0           NaN  https://www.nike.com/t/air-jordan-1-mid-shoes-...   \n",
       "\n",
       "                                         description  \\\n",
       "0  Inspired by the original AJ1, the Air Jordan 1...   \n",
       "\n",
       "                                    colors  n_reviews  avg_stars  \n",
       "0  Black/White/Fire Red; Black/Black/Black     2161.0        4.9  "
      ]
     },
     "execution_count": 47,
     "metadata": {},
     "output_type": "execute_result"
    }
   ],
   "source": [
    "# drop NA based on col description\n",
    "df = nike.dropna(subset='description').copy()\n",
    "df.head(1)"
   ]
  },
  {
   "cell_type": "code",
   "execution_count": 48,
   "id": "e88bf7e4",
   "metadata": {},
   "outputs": [
    {
     "data": {
      "text/plain": [
       "Men's Shoes                               212\n",
       "Women's Shoes                             121\n",
       "Big Kids' Shoes                           117\n",
       "Little Kids' Shoes                         98\n",
       "Baby/Toddler Shoes                         86\n",
       "                                         ... \n",
       "Men’s Training Shoes                        1\n",
       "Men's Duckboot                              1\n",
       "Women's Easy On/Off Road Running Shoes      1\n",
       "Women's Slip                                1\n",
       "Men's Football Cleat                        1\n",
       "Name: subtitle, Length: 201, dtype: int64"
      ]
     },
     "execution_count": 48,
     "metadata": {},
     "output_type": "execute_result"
    }
   ],
   "source": [
    "# subtitle categorical feature - men/women/kids - make that a gender feature\n",
    "df.subtitle.value_counts()"
   ]
  },
  {
   "cell_type": "code",
   "execution_count": 49,
   "id": "1e04a895",
   "metadata": {},
   "outputs": [],
   "source": [
    "# lower\n",
    "df['gender'] = df.subtitle.str.lower()"
   ]
  },
  {
   "cell_type": "code",
   "execution_count": 50,
   "id": "90cfaba2",
   "metadata": {},
   "outputs": [],
   "source": [
    "# give NA a category\n",
    "df['gender'].fillna('other', inplace=True)"
   ]
  },
  {
   "cell_type": "code",
   "execution_count": 51,
   "id": "e21924b2",
   "metadata": {},
   "outputs": [],
   "source": [
    "# women\n",
    "df['gender'].replace(regex='.*women.*', value='1', inplace=True)"
   ]
  },
  {
   "cell_type": "code",
   "execution_count": 52,
   "id": "1b8da978",
   "metadata": {},
   "outputs": [],
   "source": [
    "# men\n",
    "df['gender'].replace(regex='.*men.*', value='men', inplace=True)"
   ]
  },
  {
   "cell_type": "code",
   "execution_count": 53,
   "id": "0d4f95f3",
   "metadata": {},
   "outputs": [],
   "source": [
    "# recover women\n",
    "df['gender'].replace(regex='1', value='women', inplace=True)"
   ]
  },
  {
   "cell_type": "code",
   "execution_count": 54,
   "id": "ae792c6b",
   "metadata": {},
   "outputs": [],
   "source": [
    "# big kids\n",
    "df['gender'].replace(regex='^big kids.*', value='big_kids', inplace=True)"
   ]
  },
  {
   "cell_type": "code",
   "execution_count": 55,
   "id": "d25fbefc",
   "metadata": {},
   "outputs": [],
   "source": [
    "# little kids\n",
    "df['gender'].replace(regex='^little kids.*', value='little_kids', inplace=True)"
   ]
  },
  {
   "cell_type": "code",
   "execution_count": 56,
   "id": "cba5e6c0",
   "metadata": {},
   "outputs": [],
   "source": [
    "# baby\n",
    "df['gender'].replace(regex='^baby.*', value='baby', inplace=True)"
   ]
  },
  {
   "cell_type": "code",
   "execution_count": 57,
   "id": "d69026e5",
   "metadata": {},
   "outputs": [],
   "source": [
    "# clean up kids\n",
    "df['gender'].replace(regex='.* kid.*', value='big_kids', inplace=True)\n",
    "df['gender'].replace(regex='.*crib.*', value='baby', inplace=True)"
   ]
  },
  {
   "cell_type": "code",
   "execution_count": 58,
   "id": "4f6d0243",
   "metadata": {},
   "outputs": [],
   "source": [
    "# other\n",
    "df.loc[df.gender.str.match('^(?!.*(men|women|big_kids|little_kids|baby)).*$'), 'gender'] = 'other'"
   ]
  },
  {
   "cell_type": "code",
   "execution_count": 59,
   "id": "3e50ac1d",
   "metadata": {},
   "outputs": [
    {
     "data": {
      "text/plain": [
       "men            411\n",
       "women          258\n",
       "other          221\n",
       "big_kids       216\n",
       "little_kids    122\n",
       "baby           112\n",
       "Name: gender, dtype: int64"
      ]
     },
     "execution_count": 59,
     "metadata": {},
     "output_type": "execute_result"
    }
   ],
   "source": [
    "# final categories\n",
    "df.gender.value_counts()"
   ]
  },
  {
   "cell_type": "markdown",
   "id": "5d0fafc6",
   "metadata": {},
   "source": [
    "### Other non text features"
   ]
  },
  {
   "cell_type": "code",
   "execution_count": 60,
   "id": "ba7f0c59",
   "metadata": {},
   "outputs": [
    {
     "data": {
      "text/html": [
       "<div>\n",
       "<style scoped>\n",
       "    .dataframe tbody tr th:only-of-type {\n",
       "        vertical-align: middle;\n",
       "    }\n",
       "\n",
       "    .dataframe tbody tr th {\n",
       "        vertical-align: top;\n",
       "    }\n",
       "\n",
       "    .dataframe thead th {\n",
       "        text-align: right;\n",
       "    }\n",
       "</style>\n",
       "<table border=\"1\" class=\"dataframe\">\n",
       "  <thead>\n",
       "    <tr style=\"text-align: right;\">\n",
       "      <th></th>\n",
       "      <th>num_colors</th>\n",
       "      <th>n_reviews</th>\n",
       "      <th>avg_stars</th>\n",
       "      <th>gender</th>\n",
       "    </tr>\n",
       "  </thead>\n",
       "  <tbody>\n",
       "    <tr>\n",
       "      <th>0</th>\n",
       "      <td>2.0</td>\n",
       "      <td>2161.0</td>\n",
       "      <td>4.9</td>\n",
       "      <td>other</td>\n",
       "    </tr>\n",
       "    <tr>\n",
       "      <th>1</th>\n",
       "      <td>3.0</td>\n",
       "      <td>519.0</td>\n",
       "      <td>4.8</td>\n",
       "      <td>women</td>\n",
       "    </tr>\n",
       "    <tr>\n",
       "      <th>2</th>\n",
       "      <td>1.0</td>\n",
       "      <td>7.0</td>\n",
       "      <td>4.6</td>\n",
       "      <td>men</td>\n",
       "    </tr>\n",
       "  </tbody>\n",
       "</table>\n",
       "</div>"
      ],
      "text/plain": [
       "   num_colors  n_reviews  avg_stars gender\n",
       "0         2.0     2161.0        4.9  other\n",
       "1         3.0      519.0        4.8  women\n",
       "2         1.0        7.0        4.6    men"
      ]
     },
     "execution_count": 60,
     "metadata": {},
     "output_type": "execute_result"
    }
   ],
   "source": [
    "# subset\n",
    "df_sub = df.loc[:, ['num_colors', 'n_reviews', 'avg_stars', 'gender']].copy()\n",
    "df_sub.head(3)"
   ]
  },
  {
   "cell_type": "code",
   "execution_count": 61,
   "id": "fa8b6064",
   "metadata": {},
   "outputs": [
    {
     "data": {
      "text/html": [
       "<div>\n",
       "<style scoped>\n",
       "    .dataframe tbody tr th:only-of-type {\n",
       "        vertical-align: middle;\n",
       "    }\n",
       "\n",
       "    .dataframe tbody tr th {\n",
       "        vertical-align: top;\n",
       "    }\n",
       "\n",
       "    .dataframe thead th {\n",
       "        text-align: right;\n",
       "    }\n",
       "</style>\n",
       "<table border=\"1\" class=\"dataframe\">\n",
       "  <thead>\n",
       "    <tr style=\"text-align: right;\">\n",
       "      <th></th>\n",
       "      <th>num_colors</th>\n",
       "      <th>n_reviews</th>\n",
       "      <th>avg_stars</th>\n",
       "      <th>gender_baby</th>\n",
       "      <th>gender_big_kids</th>\n",
       "      <th>gender_little_kids</th>\n",
       "      <th>gender_men</th>\n",
       "      <th>gender_other</th>\n",
       "      <th>gender_women</th>\n",
       "    </tr>\n",
       "  </thead>\n",
       "  <tbody>\n",
       "    <tr>\n",
       "      <th>0</th>\n",
       "      <td>2.0</td>\n",
       "      <td>2161.0</td>\n",
       "      <td>4.9</td>\n",
       "      <td>0</td>\n",
       "      <td>0</td>\n",
       "      <td>0</td>\n",
       "      <td>0</td>\n",
       "      <td>1</td>\n",
       "      <td>0</td>\n",
       "    </tr>\n",
       "    <tr>\n",
       "      <th>1</th>\n",
       "      <td>3.0</td>\n",
       "      <td>519.0</td>\n",
       "      <td>4.8</td>\n",
       "      <td>0</td>\n",
       "      <td>0</td>\n",
       "      <td>0</td>\n",
       "      <td>0</td>\n",
       "      <td>0</td>\n",
       "      <td>1</td>\n",
       "    </tr>\n",
       "    <tr>\n",
       "      <th>2</th>\n",
       "      <td>1.0</td>\n",
       "      <td>7.0</td>\n",
       "      <td>4.6</td>\n",
       "      <td>0</td>\n",
       "      <td>0</td>\n",
       "      <td>0</td>\n",
       "      <td>1</td>\n",
       "      <td>0</td>\n",
       "      <td>0</td>\n",
       "    </tr>\n",
       "  </tbody>\n",
       "</table>\n",
       "</div>"
      ],
      "text/plain": [
       "   num_colors  n_reviews  avg_stars  gender_baby  gender_big_kids  \\\n",
       "0         2.0     2161.0        4.9            0                0   \n",
       "1         3.0      519.0        4.8            0                0   \n",
       "2         1.0        7.0        4.6            0                0   \n",
       "\n",
       "   gender_little_kids  gender_men  gender_other  gender_women  \n",
       "0                   0           0             1             0  \n",
       "1                   0           0             0             1  \n",
       "2                   0           1             0             0  "
      ]
     },
     "execution_count": 61,
     "metadata": {},
     "output_type": "execute_result"
    }
   ],
   "source": [
    "# dummy\n",
    "df_sub = pd.get_dummies(df_sub)\n",
    "df_sub.head(3)"
   ]
  },
  {
   "cell_type": "code",
   "execution_count": 62,
   "id": "6adab560",
   "metadata": {},
   "outputs": [
    {
     "data": {
      "text/html": [
       "<div>\n",
       "<style scoped>\n",
       "    .dataframe tbody tr th:only-of-type {\n",
       "        vertical-align: middle;\n",
       "    }\n",
       "\n",
       "    .dataframe tbody tr th {\n",
       "        vertical-align: top;\n",
       "    }\n",
       "\n",
       "    .dataframe thead th {\n",
       "        text-align: right;\n",
       "    }\n",
       "</style>\n",
       "<table border=\"1\" class=\"dataframe\">\n",
       "  <thead>\n",
       "    <tr style=\"text-align: right;\">\n",
       "      <th></th>\n",
       "      <th>feature_num_colors</th>\n",
       "      <th>feature_n_reviews</th>\n",
       "      <th>feature_avg_stars</th>\n",
       "      <th>feature_gender_baby</th>\n",
       "      <th>feature_gender_big_kids</th>\n",
       "      <th>feature_gender_little_kids</th>\n",
       "      <th>feature_gender_men</th>\n",
       "      <th>feature_gender_other</th>\n",
       "      <th>feature_gender_women</th>\n",
       "    </tr>\n",
       "  </thead>\n",
       "  <tbody>\n",
       "    <tr>\n",
       "      <th>0</th>\n",
       "      <td>2.0</td>\n",
       "      <td>2161.0</td>\n",
       "      <td>4.9</td>\n",
       "      <td>0</td>\n",
       "      <td>0</td>\n",
       "      <td>0</td>\n",
       "      <td>0</td>\n",
       "      <td>1</td>\n",
       "      <td>0</td>\n",
       "    </tr>\n",
       "    <tr>\n",
       "      <th>1</th>\n",
       "      <td>3.0</td>\n",
       "      <td>519.0</td>\n",
       "      <td>4.8</td>\n",
       "      <td>0</td>\n",
       "      <td>0</td>\n",
       "      <td>0</td>\n",
       "      <td>0</td>\n",
       "      <td>0</td>\n",
       "      <td>1</td>\n",
       "    </tr>\n",
       "    <tr>\n",
       "      <th>2</th>\n",
       "      <td>1.0</td>\n",
       "      <td>7.0</td>\n",
       "      <td>4.6</td>\n",
       "      <td>0</td>\n",
       "      <td>0</td>\n",
       "      <td>0</td>\n",
       "      <td>1</td>\n",
       "      <td>0</td>\n",
       "      <td>0</td>\n",
       "    </tr>\n",
       "  </tbody>\n",
       "</table>\n",
       "</div>"
      ],
      "text/plain": [
       "   feature_num_colors  feature_n_reviews  feature_avg_stars  \\\n",
       "0                 2.0             2161.0                4.9   \n",
       "1                 3.0              519.0                4.8   \n",
       "2                 1.0                7.0                4.6   \n",
       "\n",
       "   feature_gender_baby  feature_gender_big_kids  feature_gender_little_kids  \\\n",
       "0                    0                        0                           0   \n",
       "1                    0                        0                           0   \n",
       "2                    0                        0                           0   \n",
       "\n",
       "   feature_gender_men  feature_gender_other  feature_gender_women  \n",
       "0                   0                     1                     0  \n",
       "1                   0                     0                     1  \n",
       "2                   1                     0                     0  "
      ]
     },
     "execution_count": 62,
     "metadata": {},
     "output_type": "execute_result"
    }
   ],
   "source": [
    "# prefix all non-text features - to distinguish from BOW words\n",
    "df_sub.columns = ['feature_' + col for col in df_sub.columns]\n",
    "df_sub.head(3)"
   ]
  },
  {
   "cell_type": "markdown",
   "id": "78cd49dd",
   "metadata": {},
   "source": [
    "### Concatenate with BOW"
   ]
  },
  {
   "cell_type": "code",
   "execution_count": 63,
   "id": "5d4418d3",
   "metadata": {},
   "outputs": [],
   "source": [
    "df_sub.reset_index(drop=True, inplace=True)"
   ]
  },
  {
   "cell_type": "code",
   "execution_count": 64,
   "id": "f696d3be",
   "metadata": {},
   "outputs": [],
   "source": [
    "df_model = pd.concat([df_processed[['price']], df_sub, df_processed.drop('price', axis=1)], axis=1)"
   ]
  },
  {
   "cell_type": "code",
   "execution_count": 65,
   "id": "52b32130",
   "metadata": {},
   "outputs": [],
   "source": [
    "df_model.rename({'price': 'target_price'}, axis=1, inplace=True)"
   ]
  },
  {
   "cell_type": "code",
   "execution_count": 66,
   "id": "65a8d278",
   "metadata": {},
   "outputs": [
    {
     "data": {
      "text/html": [
       "<div>\n",
       "<style scoped>\n",
       "    .dataframe tbody tr th:only-of-type {\n",
       "        vertical-align: middle;\n",
       "    }\n",
       "\n",
       "    .dataframe tbody tr th {\n",
       "        vertical-align: top;\n",
       "    }\n",
       "\n",
       "    .dataframe thead th {\n",
       "        text-align: right;\n",
       "    }\n",
       "</style>\n",
       "<table border=\"1\" class=\"dataframe\">\n",
       "  <thead>\n",
       "    <tr style=\"text-align: right;\">\n",
       "      <th></th>\n",
       "      <th>target_price</th>\n",
       "      <th>feature_num_colors</th>\n",
       "      <th>feature_n_reviews</th>\n",
       "      <th>feature_avg_stars</th>\n",
       "      <th>feature_gender_baby</th>\n",
       "      <th>feature_gender_big_kids</th>\n",
       "      <th>feature_gender_little_kids</th>\n",
       "      <th>feature_gender_men</th>\n",
       "      <th>feature_gender_other</th>\n",
       "      <th>feature_gender_women</th>\n",
       "      <th>...</th>\n",
       "      <th>optimal</th>\n",
       "      <th>use</th>\n",
       "      <th>unleash</th>\n",
       "      <th>grass</th>\n",
       "      <th>artisan</th>\n",
       "      <th>coating</th>\n",
       "      <th>slides</th>\n",
       "      <th>decades</th>\n",
       "      <th>eyestays</th>\n",
       "      <th>pink</th>\n",
       "    </tr>\n",
       "  </thead>\n",
       "  <tbody>\n",
       "    <tr>\n",
       "      <th>0</th>\n",
       "      <td>(90.0, 155.0]</td>\n",
       "      <td>2.0</td>\n",
       "      <td>2161.0</td>\n",
       "      <td>4.9</td>\n",
       "      <td>0</td>\n",
       "      <td>0</td>\n",
       "      <td>0</td>\n",
       "      <td>0</td>\n",
       "      <td>1</td>\n",
       "      <td>0</td>\n",
       "      <td>...</td>\n",
       "      <td>0</td>\n",
       "      <td>0</td>\n",
       "      <td>0</td>\n",
       "      <td>0</td>\n",
       "      <td>0</td>\n",
       "      <td>0</td>\n",
       "      <td>0</td>\n",
       "      <td>0</td>\n",
       "      <td>0</td>\n",
       "      <td>0</td>\n",
       "    </tr>\n",
       "    <tr>\n",
       "      <th>1</th>\n",
       "      <td>(90.0, 155.0]</td>\n",
       "      <td>3.0</td>\n",
       "      <td>519.0</td>\n",
       "      <td>4.8</td>\n",
       "      <td>0</td>\n",
       "      <td>0</td>\n",
       "      <td>0</td>\n",
       "      <td>0</td>\n",
       "      <td>0</td>\n",
       "      <td>1</td>\n",
       "      <td>...</td>\n",
       "      <td>0</td>\n",
       "      <td>0</td>\n",
       "      <td>0</td>\n",
       "      <td>0</td>\n",
       "      <td>0</td>\n",
       "      <td>0</td>\n",
       "      <td>0</td>\n",
       "      <td>0</td>\n",
       "      <td>0</td>\n",
       "      <td>0</td>\n",
       "    </tr>\n",
       "    <tr>\n",
       "      <th>2</th>\n",
       "      <td>(90.0, 155.0]</td>\n",
       "      <td>1.0</td>\n",
       "      <td>7.0</td>\n",
       "      <td>4.6</td>\n",
       "      <td>0</td>\n",
       "      <td>0</td>\n",
       "      <td>0</td>\n",
       "      <td>1</td>\n",
       "      <td>0</td>\n",
       "      <td>0</td>\n",
       "      <td>...</td>\n",
       "      <td>0</td>\n",
       "      <td>0</td>\n",
       "      <td>0</td>\n",
       "      <td>0</td>\n",
       "      <td>0</td>\n",
       "      <td>0</td>\n",
       "      <td>0</td>\n",
       "      <td>0</td>\n",
       "      <td>0</td>\n",
       "      <td>0</td>\n",
       "    </tr>\n",
       "    <tr>\n",
       "      <th>3</th>\n",
       "      <td>(90.0, 155.0]</td>\n",
       "      <td>2.0</td>\n",
       "      <td>128.0</td>\n",
       "      <td>4.9</td>\n",
       "      <td>0</td>\n",
       "      <td>0</td>\n",
       "      <td>0</td>\n",
       "      <td>1</td>\n",
       "      <td>0</td>\n",
       "      <td>0</td>\n",
       "      <td>...</td>\n",
       "      <td>0</td>\n",
       "      <td>0</td>\n",
       "      <td>0</td>\n",
       "      <td>0</td>\n",
       "      <td>0</td>\n",
       "      <td>0</td>\n",
       "      <td>0</td>\n",
       "      <td>0</td>\n",
       "      <td>0</td>\n",
       "      <td>0</td>\n",
       "    </tr>\n",
       "    <tr>\n",
       "      <th>4</th>\n",
       "      <td>(155.0, 220.0]</td>\n",
       "      <td>1.0</td>\n",
       "      <td>333.0</td>\n",
       "      <td>4.9</td>\n",
       "      <td>0</td>\n",
       "      <td>0</td>\n",
       "      <td>0</td>\n",
       "      <td>1</td>\n",
       "      <td>0</td>\n",
       "      <td>0</td>\n",
       "      <td>...</td>\n",
       "      <td>0</td>\n",
       "      <td>0</td>\n",
       "      <td>0</td>\n",
       "      <td>0</td>\n",
       "      <td>0</td>\n",
       "      <td>0</td>\n",
       "      <td>0</td>\n",
       "      <td>0</td>\n",
       "      <td>0</td>\n",
       "      <td>0</td>\n",
       "    </tr>\n",
       "  </tbody>\n",
       "</table>\n",
       "<p>5 rows × 1435 columns</p>\n",
       "</div>"
      ],
      "text/plain": [
       "     target_price  feature_num_colors  feature_n_reviews  feature_avg_stars  \\\n",
       "0   (90.0, 155.0]                 2.0             2161.0                4.9   \n",
       "1   (90.0, 155.0]                 3.0              519.0                4.8   \n",
       "2   (90.0, 155.0]                 1.0                7.0                4.6   \n",
       "3   (90.0, 155.0]                 2.0              128.0                4.9   \n",
       "4  (155.0, 220.0]                 1.0              333.0                4.9   \n",
       "\n",
       "   feature_gender_baby  feature_gender_big_kids  feature_gender_little_kids  \\\n",
       "0                    0                        0                           0   \n",
       "1                    0                        0                           0   \n",
       "2                    0                        0                           0   \n",
       "3                    0                        0                           0   \n",
       "4                    0                        0                           0   \n",
       "\n",
       "   feature_gender_men  feature_gender_other  feature_gender_women  ...  \\\n",
       "0                   0                     1                     0  ...   \n",
       "1                   0                     0                     1  ...   \n",
       "2                   1                     0                     0  ...   \n",
       "3                   1                     0                     0  ...   \n",
       "4                   1                     0                     0  ...   \n",
       "\n",
       "   optimal  use  unleash  grass  artisan  coating  slides  decades  eyestays  \\\n",
       "0        0    0        0      0        0        0       0        0         0   \n",
       "1        0    0        0      0        0        0       0        0         0   \n",
       "2        0    0        0      0        0        0       0        0         0   \n",
       "3        0    0        0      0        0        0       0        0         0   \n",
       "4        0    0        0      0        0        0       0        0         0   \n",
       "\n",
       "   pink  \n",
       "0     0  \n",
       "1     0  \n",
       "2     0  \n",
       "3     0  \n",
       "4     0  \n",
       "\n",
       "[5 rows x 1435 columns]"
      ]
     },
     "execution_count": 66,
     "metadata": {},
     "output_type": "execute_result"
    }
   ],
   "source": [
    "df_model.head()"
   ]
  },
  {
   "cell_type": "markdown",
   "id": "9b689e68",
   "metadata": {},
   "source": [
    "Note the structure:\n",
    "\n",
    "- target: `target_price`\n",
    "- non-text features: `feature_xxx` - 3 numeric, 1 categorical (dummified gender)\n",
    "- text features from description: put at the end of the df"
   ]
  },
  {
   "cell_type": "markdown",
   "id": "33239bd0",
   "metadata": {},
   "source": [
    "### Save final df for further modeling"
   ]
  },
  {
   "cell_type": "code",
   "execution_count": 67,
   "id": "b4166d9d",
   "metadata": {},
   "outputs": [],
   "source": [
    "df_model.to_csv('data/nike_model.csv', index=False)"
   ]
  },
  {
   "cell_type": "code",
   "execution_count": null,
   "id": "439628a3",
   "metadata": {},
   "outputs": [],
   "source": []
  }
 ],
 "metadata": {
  "kernelspec": {
   "display_name": "Python 3 (ipykernel)",
   "language": "python",
   "name": "python3"
  },
  "language_info": {
   "codemirror_mode": {
    "name": "ipython",
    "version": 3
   },
   "file_extension": ".py",
   "mimetype": "text/x-python",
   "name": "python",
   "nbconvert_exporter": "python",
   "pygments_lexer": "ipython3",
   "version": "3.8.5"
  },
  "vscode": {
   "interpreter": {
    "hash": "40d3a090f54c6569ab1632332b64b2c03c39dcf918b08424e98f38b5ae0af88f"
   }
  }
 },
 "nbformat": 4,
 "nbformat_minor": 5
}
